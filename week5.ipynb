{
 "cells": [
  {
   "cell_type": "markdown",
   "id": "a7d737fb",
   "metadata": {},
   "source": [
    "# 알고리즘 스터디 5주차"
   ]
  },
  {
   "cell_type": "markdown",
   "id": "39ce8e91",
   "metadata": {},
   "source": [
    "## 백준 알고리즘 기초(1/2)"
   ]
  },
  {
   "cell_type": "markdown",
   "id": "4a674bd7",
   "metadata": {},
   "source": [
    "### 300 수학1"
   ]
  },
  {
   "cell_type": "code",
   "execution_count": null,
   "id": "71686f0b",
   "metadata": {},
   "outputs": [],
   "source": [
    "//최대 공약수와 최소공배수 2609번\n",
    "import java.util.Scanner;\n",
    "\n",
    "public class first {\n",
    "\t//유클리드 호제법\n",
    "\tpublic static void main(String[] args)  {\n",
    "\t\tScanner sc=new Scanner(System.in);\n",
    "\t\tint one=sc.nextInt();\n",
    "\t\tint two=sc.nextInt();\n",
    "\t\t\n",
    "\t\tint a=one;\n",
    "\t\tint b=two;\n",
    "\t\twhile(b!=0) {\n",
    "\t\t\tint r=a%b;\n",
    "\t\t\t//GCD(a,b)=GCD(b,r)\n",
    "\t\t\ta=b;\n",
    "\t\t\tb=r;\n",
    "\t\t}\n",
    "\t\tint gcd=a;//최대공약수\n",
    "\t\tSystem.out.println(gcd);\n",
    "\t\tint lcm=(one/gcd)*(two/gcd)*gcd;//최소공배수\n",
    "\t\tSystem.out.println(lcm);\n",
    "\t\t\n",
    "\t}\n",
    "}"
   ]
  },
  {
   "cell_type": "code",
   "execution_count": null,
   "id": "3d0754e3",
   "metadata": {},
   "outputs": [],
   "source": [
    "//팩토리얼 0의 개수 1676번\n",
    "import java.util.Scanner;\n",
    "\n",
    "public class first {\n",
    "\t\n",
    "\tpublic static void main(String[] args)  {\n",
    "\t\tScanner sc=new Scanner(System.in);\n",
    "\t\tint one=sc.nextInt();\n",
    "\t\t\n",
    "\t\tint cnt=0;\n",
    "\t\twhile(one>0) {\n",
    "\t\t\tcnt+=one/5;\n",
    "\t\t\tone=one/5;\n",
    "\t\t}\n",
    "\t\tSystem.out.print(cnt);\n",
    "\t}\n",
    "}\n",
    "\n",
    "\n"
   ]
  },
  {
   "cell_type": "code",
   "execution_count": null,
   "id": "ebc6f040",
   "metadata": {},
   "outputs": [],
   "source": [
    "//조합 0의 개수 2004번\n"
   ]
  },
  {
   "cell_type": "markdown",
   "id": "b2b4c549",
   "metadata": {},
   "source": [
    "### 301 수학1 (연습)"
   ]
  },
  {
   "cell_type": "code",
   "execution_count": null,
   "id": "78a2eb1d",
   "metadata": {},
   "outputs": [],
   "source": [
    "//GCD 합 9613번\n"
   ]
  },
  {
   "cell_type": "code",
   "execution_count": null,
   "id": "d34e6be3",
   "metadata": {},
   "outputs": [],
   "source": [
    "//2진수 8진수(1373번)\n"
   ]
  },
  {
   "cell_type": "markdown",
   "id": "1e5e0639",
   "metadata": {},
   "source": [
    "### 400 다이나믹 프로그래밍 1"
   ]
  },
  {
   "cell_type": "code",
   "execution_count": null,
   "id": "14416d4d",
   "metadata": {},
   "outputs": [],
   "source": [
    "//1로 만들기 1463번\n"
   ]
  },
  {
   "cell_type": "markdown",
   "id": "8d7699c8",
   "metadata": {},
   "source": [
    "### 401 다이나믹 프로그래밍 1 (연습)"
   ]
  },
  {
   "cell_type": "code",
   "execution_count": null,
   "id": "acbaa5b7",
   "metadata": {},
   "outputs": [],
   "source": [
    "//1, 2, 3 더하기 3 15988번\n"
   ]
  }
 ],
 "metadata": {
  "kernelspec": {
   "display_name": "Java",
   "language": "java",
   "name": "java"
  },
  "language_info": {
   "codemirror_mode": "java",
   "file_extension": ".jshell",
   "mimetype": "text/x-java-source",
   "name": "Java",
   "pygments_lexer": "java",
   "version": "11.0.15.1+2-LTS-10"
  }
 },
 "nbformat": 4,
 "nbformat_minor": 5
}
