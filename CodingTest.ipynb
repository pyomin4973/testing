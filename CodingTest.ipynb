{
  "nbformat": 4,
  "nbformat_minor": 0,
  "metadata": {
    "colab": {
      "provenance": []
    },
    "kernelspec": {
      "name": "python3",
      "display_name": "Python 3"
    },
    "language_info": {
      "name": "python"
    }
  },
  "cells": [
    {
      "cell_type": "code",
      "source": [
        "#프로그래머스 해쉬(폰켓몬)\n",
        "def solution(nums):\n",
        "    answer = 0\n",
        "    #set은 변하지 않고 중복되지 않는 값들을 저장한다\n",
        "    checking=set(nums)\n",
        "    \n",
        "    if len(nums)/2 > len(checking):\n",
        "        answer=len(checking)\n",
        "    else:\n",
        "        answer=len(nums)/2\n",
        "        \n",
        "    return answer\n",
        "#N마리의 포켓몬 중 N/2마리 가져가기"
      ],
      "metadata": {
        "id": "AV4izM1iFmL6"
      },
      "execution_count": null,
      "outputs": []
    },
    {
      "cell_type": "code",
      "execution_count": 4,
      "metadata": {
        "colab": {
          "base_uri": "https://localhost:8080/"
        },
        "id": "mBbU0e4yjGdg",
        "outputId": "24ca0127-2157-4061-ee32-58484905ba01"
      },
      "outputs": [
        {
          "output_type": "stream",
          "name": "stdout",
          "text": [
            "6\n"
          ]
        }
      ],
      "source": [
        "#greedy 예제\n",
        "def solution(money):\n",
        "  answer=0\n",
        "  num=[500,100,50,10]\n",
        "  for i in range (len(num)):\n",
        "    cnt=money//num[i]\n",
        "    answer=answer+cnt\n",
        "    money=money%num[i]\n",
        "  return answer\n",
        "\n",
        "n=1260\n",
        "cnt=solution(n)\n",
        "print(cnt)"
      ]
    },
    {
      "cell_type": "code",
      "source": [
        "#greedy 1번 큰 수의 법칙\n",
        "n,m,k=map(int,input().split())\n",
        "data=list(map(int, input().split()))\n",
        "data.sort(reverse=True)\n",
        "answer=0\n",
        "cnt=m//(k+1)\n",
        "\n",
        "answer=answer+data[0]*cnt*k\n",
        "answer=answer+data[1]*cnt\n",
        "\n",
        "if (k+1)*cnt<m:\n",
        "  answer+=data[0]\n",
        "print(answer)"
      ],
      "metadata": {
        "colab": {
          "base_uri": "https://localhost:8080/"
        },
        "id": "Tku4If50__ue",
        "outputId": "bca8bfcd-2ebd-495f-c54c-57cb5bbb02fb"
      },
      "execution_count": 9,
      "outputs": [
        {
          "output_type": "stream",
          "name": "stdout",
          "text": [
            "5 8 3\n",
            "2 4 5 4 6\n",
            "2\n",
            "36\n",
            "46\n",
            "46\n"
          ]
        }
      ]
    },
    {
      "cell_type": "code",
      "source": [
        "#greedy 2번 큰 수의 법칙\n",
        "n, m= map (int, input().split())\n",
        "check=[0]*m\n",
        "for i in range(n):\n",
        "  data=list(map(int, input().split()))\n",
        "  data.sort()\n",
        "  check[i]=data[0]\n",
        "answer=max(check)\n",
        "print(answer)\n",
        "\n",
        "\n"
      ],
      "metadata": {
        "colab": {
          "base_uri": "https://localhost:8080/"
        },
        "id": "sZtt4crfFfrR",
        "outputId": "fa7cca38-f7de-45a0-9437-6906d884943c"
      },
      "execution_count": 14,
      "outputs": [
        {
          "output_type": "stream",
          "name": "stdout",
          "text": [
            "2 4\n",
            "7 3 1 8\n",
            "3 3 3 4\n",
            "3\n"
          ]
        }
      ]
    },
    {
      "cell_type": "code",
      "source": [
        "#1이 될 때까지\n",
        "n,k=map(int, input().split())\n",
        "cnt=0\n",
        "while True:\n",
        "  n=n//k\n",
        "  cnt=cnt+1\n",
        "  #print(cnt)\n",
        "  if(n < k):\n",
        "    cnt=cnt+n-1\n",
        "    break\n",
        "\n",
        "print(cnt)"
      ],
      "metadata": {
        "colab": {
          "base_uri": "https://localhost:8080/"
        },
        "id": "gqBagygqJTAD",
        "outputId": "8628a5ec-94a6-4c1a-ba3e-f7089f4a505c"
      },
      "execution_count": 21,
      "outputs": [
        {
          "output_type": "stream",
          "name": "stdout",
          "text": [
            "25 5\n",
            "2\n"
          ]
        }
      ]
    }
  ]
}