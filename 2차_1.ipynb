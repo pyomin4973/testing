{
 "cells": [
  {
   "cell_type": "markdown",
   "id": "7136892c",
   "metadata": {},
   "source": [
    "# 알고리즘 스터디 2차-1"
   ]
  },
  {
   "cell_type": "code",
   "execution_count": null,
   "id": "5f59d15c",
   "metadata": {},
   "outputs": [],
   "source": [
    "//K번째 수\n",
    "class Solution {\n",
    "    public int[] solution(int[] array, int[][] commands) {\n",
    "        int[] answer = new int[commands.length];\n",
    "        for(int i=0;i<commands.length;i++){\n",
    "            int[] check =new int[commands[i][1]-(commands[i][0]-1)];\n",
    "            for(int j=0;j<check.length;j++){//새로운 배열\n",
    "                check[j]=array[commands[i][0]-1+j];\n",
    "            }\n",
    "            for(int j=0;j<check.length-1;j++){//버블 정렬\n",
    "                for(int k=j+1;k<check.length;k++){\n",
    "                    if(check[j]>check[k]){\n",
    "                        int cnt=check[k];\n",
    "                        check[k]=check[j];\n",
    "                        check[j]=cnt;\n",
    "                    }\n",
    "                }\n",
    "            }\n",
    "            answer[i]=check[commands[i][2]-1];\n",
    "        }\n",
    "        return answer;\n",
    "    }\n",
    "}"
   ]
  },
  {
   "cell_type": "code",
   "execution_count": null,
   "id": "df718d8e",
   "metadata": {},
   "outputs": [],
   "source": [
    "//가운데 글자 가져오기\n",
    "class Solution {\n",
    "    public String solution(String s) {\n",
    "        String answer = \"\";\n",
    "        if(s.length()%2==0){\n",
    "            char a=s.charAt(s.length()/2-1);\n",
    "            char b=s.charAt(s.length()/2);\n",
    "            answer+=Character.toString(a);\n",
    "            answer+=Character.toString(b);\n",
    "            \n",
    "        }\n",
    "        else{\n",
    "            \n",
    "            char b=s.charAt(s.length()/2);\n",
    "            answer+=Character.toString(b);\n",
    "           \n",
    "        }\n",
    "        return answer;\n",
    "    }\n",
    "}"
   ]
  },
  {
   "cell_type": "code",
   "execution_count": null,
   "id": "191a65f8",
   "metadata": {},
   "outputs": [],
   "source": [
    "//없는 숫자 더하기\n",
    "class Solution {\n",
    "    public int solution(int[] numbers) {\n",
    "        int answer = 0;\n",
    "        int[] arr={0,1,2,3,4,5,6,7,8,9};\n",
    "        for(int i=0;i<numbers.length;i++){\n",
    "            arr[numbers[i]]=0;\n",
    "        }\n",
    "        for(int i=0;i<arr.length;i++){\n",
    "            answer+=arr[i];\n",
    "        }\n",
    "        return answer;\n",
    "    }\n",
    "}"
   ]
  },
  {
   "cell_type": "code",
   "execution_count": 1,
   "id": "e2e8b06f",
   "metadata": {},
   "outputs": [],
   "source": [
    "/*짝수와 홀수\n",
    "def solution(num):\n",
    "    if num%2==0:\n",
    "        answer='Even'\n",
    "    else:\n",
    "        answer='Odd'\n",
    "\n",
    "    return answer\n",
    "*/"
   ]
  },
  {
   "cell_type": "code",
   "execution_count": null,
   "id": "c7739f89",
   "metadata": {},
   "outputs": [],
   "source": [
    "/*평균 구하기\n",
    "def solution(arr):\n",
    "    sum=0\n",
    "    for i in range (len(arr)):\n",
    "        sum+=arr[i]\n",
    "        \n",
    "    answer=sum/len(arr)\n",
    "    return answer\n",
    "*/"
   ]
  }
 ],
 "metadata": {
  "kernelspec": {
   "display_name": "Java",
   "language": "java",
   "name": "java"
  },
  "language_info": {
   "codemirror_mode": "java",
   "file_extension": ".jshell",
   "mimetype": "text/x-java-source",
   "name": "Java",
   "pygments_lexer": "java",
   "version": "11.0.15.1+2-LTS-10"
  }
 },
 "nbformat": 4,
 "nbformat_minor": 5
}
