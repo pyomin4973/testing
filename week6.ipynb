{
 "cells": [
  {
   "cell_type": "markdown",
   "id": "66e9fb3d",
   "metadata": {},
   "source": [
    "# 알고리즘 스터디 6주차"
   ]
  },
  {
   "cell_type": "markdown",
   "id": "b2110adc",
   "metadata": {},
   "source": [
    "## 백준 알고리즘 기초 (2/2)"
   ]
  },
  {
   "cell_type": "markdown",
   "id": "c65f3089",
   "metadata": {},
   "source": [
    "### 620 트리1"
   ]
  },
  {
   "cell_type": "code",
   "execution_count": null,
   "id": "d071a3ff",
   "metadata": {},
   "outputs": [],
   "source": [
    "// 트리 순회 1991번\n",
    "import java.util.*;\n",
    "import java.io.*;\n",
    "\n",
    "public class Main {\n",
    "\tstatic class Node {\n",
    "\t\tchar ch;\n",
    "\t\tNode right;\n",
    "\t\tNode left;\n",
    "\t\t\n",
    "\t\tpublic Node(char ch) { //노드 생성자 : 객체가 생성될 때마다 data를 초기화\n",
    "\t\t\tthis.ch = ch;\n",
    "\t\t}\n",
    "\t}\n",
    "\t\n",
    "\tstatic StringBuilder sb = new StringBuilder();\n",
    "\t\n",
    "\t\n",
    "\tpublic static void main(String[] args) throws IOException {\n",
    "\t\t\n",
    "\t\tBufferedReader br = new BufferedReader(new InputStreamReader(System.in));\n",
    "\t\tint T = Integer.parseInt(br.readLine()); //노드의 개수\n",
    "\t\tNode[] arr = new Node[T];\n",
    "\t\tfor(int i=0;i<T;i++) {\n",
    "\t\t\tarr[i] = new Node((char) (i + 'A')); //arr[0] = 'A'로 채워짐\n",
    "\t\t}\n",
    "\t\t\n",
    "\t\t/* 자식 정보를 입력하는 반복문 */\n",
    "\t\tfor(int i=0;i<T;i++) {\n",
    "\t\t\tStringTokenizer st = new StringTokenizer(br.readLine(),\" \");\n",
    "\t\t\tint N =st.nextToken().charAt(0)-'A';\n",
    "\t\t\t//System.out.print(N+\" \");\n",
    "\t\t\tint L = st.nextToken().charAt(0)-'A';\n",
    "\t\t\tint R = st.nextToken().charAt(0)-'A';\n",
    "\t\t\t\n",
    "\t\t\tif(L != -19) arr[N].left = arr[L];//N이 1일 경우 L은 3이고, R은 .(-19) 그러면 arr[1].right은 공백\n",
    "\t\t\tif(R != -19) arr[N].right = arr[R];\n",
    "\t\t\t\n",
    "\t\t\t\n",
    "\t\t}\n",
    "\t\tpreorder(arr[0]);\n",
    "\t\tsb.append('\\n');\n",
    "\t\tinorder(arr[0]);\n",
    "\t\tsb.append('\\n');\n",
    "\t\tpostorder(arr[0]);\n",
    "\t\tsb.append('\\n');\n",
    "\t\tSystem.out.println(sb.toString());\n",
    "\t\t\n",
    "\t\t\n",
    "\t\t\n",
    "\t}\n",
    "\tpublic static void preorder(Node node) {\n",
    "\t\tsb.append(node.ch);\n",
    "\t\tif(node.left != null) preorder(node.left);\n",
    "\t\tif(node.right != null) preorder(node.right);\n",
    "\t}\n",
    "\t\n",
    "\tpublic static void inorder(Node node) {\n",
    "\t\tif(node.left != null) inorder(node.left);\n",
    "\t\tsb.append(node.ch);\n",
    "\t\tif(node.right != null) inorder(node.right);\n",
    "\t}\n",
    "\t/* 후위 순회 : 왼쪽자식 -> 오른쪽 자식 -> 루트 */\n",
    "\tpublic static void postorder(Node node) {\n",
    "\t\tif(node.left != null) postorder(node.left);\n",
    "\t\tif(node.right != null) postorder(node.right);\n",
    "\t\tsb.append(node.ch);\n",
    "\t}\n",
    "\t\n",
    "\n",
    "}\n",
    "\n"
   ]
  },
  {
   "cell_type": "code",
   "execution_count": null,
   "id": "f6d9c3aa",
   "metadata": {},
   "outputs": [],
   "source": [
    "// 트리 높이와 너비 2250번"
   ]
  },
  {
   "cell_type": "code",
   "execution_count": null,
   "id": "3497b74f",
   "metadata": {},
   "outputs": [],
   "source": [
    "// 트리의 부모 찾기 11725번"
   ]
  },
  {
   "cell_type": "markdown",
   "id": "99d58cc8",
   "metadata": {},
   "source": [
    "### 600 그래프1"
   ]
  },
  {
   "cell_type": "code",
   "execution_count": null,
   "id": "cbcbac5e",
   "metadata": {},
   "outputs": [],
   "source": [
    "// ABCDE 13023번"
   ]
  },
  {
   "cell_type": "code",
   "execution_count": null,
   "id": "344706a2",
   "metadata": {},
   "outputs": [],
   "source": [
    "// DFS와 BFS 1260번"
   ]
  },
  {
   "cell_type": "code",
   "execution_count": null,
   "id": "800e8b85",
   "metadata": {},
   "outputs": [],
   "source": [
    "// 연결 요소의 개수 11724번"
   ]
  },
  {
   "cell_type": "markdown",
   "id": "ef6255d5",
   "metadata": {},
   "source": [
    "### 610 BFS"
   ]
  },
  {
   "cell_type": "code",
   "execution_count": null,
   "id": "7e9dc5c9",
   "metadata": {},
   "outputs": [],
   "source": [
    "// 숨바꼭질 1697번"
   ]
  }
 ],
 "metadata": {
  "kernelspec": {
   "display_name": "Java",
   "language": "java",
   "name": "java"
  },
  "language_info": {
   "codemirror_mode": "java",
   "file_extension": ".jshell",
   "mimetype": "text/x-java-source",
   "name": "Java",
   "pygments_lexer": "java",
   "version": "11.0.15.1+2-LTS-10"
  }
 },
 "nbformat": 4,
 "nbformat_minor": 5
}
