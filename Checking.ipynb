{
  "nbformat": 4,
  "nbformat_minor": 0,
  "metadata": {
    "colab": {
      "provenance": []
    },
    "kernelspec": {
      "name": "python3",
      "display_name": "Python 3"
    },
    "language_info": {
      "name": "python"
    }
  },
  "cells": [
    {
      "cell_type": "code",
      "execution_count": null,
      "metadata": {
        "id": "FHmwuRr_CKGP"
      },
      "outputs": [],
      "source": [
        "n,m=map(int, input().split())\n",
        "graph= []\n",
        "for i in range(n):\n",
        "  graph.append(list(map(int,input())))\n",
        "\n",
        "def dfs(x,y):#DFS로 특정한 노드를 방문한 뒤에 연결된 모든 노드들도 방문\n",
        "  if x<=-1 or x>=n or y<=-1 or y>=m:\n",
        "    return False\n",
        "  if graph[x][y]==0:\n",
        "    graph[x][y]=1\n",
        "    dfs(x-1, y)\n",
        "    dfs(x,y-1)\n",
        "    dfs(x+1,y)\n",
        "    dfs(x, y+1)\n",
        "    return True\n",
        "  return False\n",
        "\n",
        "answer=0\n",
        "for i in range(n):\n",
        "  for j in range(m):#모든 위치에서 dfs를 돌려본다.\n",
        "    if dfs(i, j)==True:\n",
        "      answer+=1\n",
        "\n",
        "print(answer)\n"
      ]
    },
    {
      "cell_type": "code",
      "source": [
        "#음료수 얼려 먹기 DFS 해답\n",
        "n=4\n",
        "m=5\n",
        "answer=0\n",
        "graph=[[0,0,1,1,0],[0,0,0,1,1],[1,1,1,1,1],[0,0,0,0,0]]\n",
        "\n",
        "def dfs(x,y):#DFS로 특정한 노드를 방문한 뒤에 연결된 모든 노드들도 방문\n",
        "  if x<=-1 or x>=n or y<=-1 or y>=m:\n",
        "    return False\n",
        "  if graph[x][y]==0:\n",
        "    graph[x][y]=1\n",
        "    dfs(x-1, y)\n",
        "    dfs(x,y-1)\n",
        "    dfs(x+1,y)\n",
        "    dfs(x, y+1)\n",
        "    return True\n",
        "  return False\n",
        "\n",
        "answer=0\n",
        "for i in range(n):\n",
        "  for j in range(m):\n",
        "    if dfs(i, j)==True:\n",
        "      answer+=1\n",
        "\n",
        "print(answer)\n"
      ],
      "metadata": {
        "colab": {
          "base_uri": "https://localhost:8080/"
        },
        "id": "gN6dpmafI7hi",
        "outputId": "3b085558-d71b-437a-fa62-7a155fcbaff0"
      },
      "execution_count": null,
      "outputs": [
        {
          "output_type": "stream",
          "name": "stdout",
          "text": [
            "3\n"
          ]
        }
      ]
    },
    {
      "cell_type": "code",
      "source": [
        "from collections import deque\n",
        "\n",
        "n, m=map(int,input().split())\n",
        "graph=[]\n",
        "for i in range(n):\n",
        "  graph.append(list(map(int,input())))\n",
        "dx=[-1,1,0,0]\n",
        "dy=[0,0,-1,1]\n",
        "\n",
        "def bfs(x,y):\n",
        "  queue=deque()\n",
        "  queue.append((x,y))\n",
        "  while queue:\n",
        "    x,y=queue.popleft()\n",
        "    #현재 위치에서 네 방향으로의 위치 확인\n",
        "    for i in range(4):\n",
        "      nx=x+dx[i]\n",
        "      ny=y+dy[i]\n",
        "    #미로 찾기 공간을 벗어난 경우 무시\n",
        "    if nx<0 or ny<0 or nx>=n or ny>=m:\n",
        "      continue\n",
        "    #괴물인 경우 무시\n",
        "    if graph[nx][ny]==0:\n",
        "      continue\n",
        "    #해당 노드를 처음 방문하는 경우에만 최단 거리 기록\n",
        "    if graph[nx][ny]==1:\n",
        "      graph[nx][ny]=graph[x][y]+1\n",
        "      queue.append((nx,ny))\n",
        "    return graph[n-1][m-1]\n",
        "\n",
        "print(bfs(0,0))\n"
      ],
      "metadata": {
        "id": "51XqFwoW7NbF"
      },
      "execution_count": null,
      "outputs": []
    },
    {
      "cell_type": "code",
      "source": [
        "#이동하는 최소 칸 수(출발지 칸 수 포함)를 구하는 미로탈출(BFS)\n",
        "from collections import deque\n",
        "\n",
        "n,m=5,6\n",
        "graph=[[1,0,1,0,1,0],[1,1,1,1,1,1],[0,0,0,0,0,1],[1,1,1,1,1,1],[1,1,1,1,1,1]]\n",
        "#  상 하 좌 우\n",
        "dx=[-1,1,0,0]\n",
        "dy=[0,0,-1,1]\n",
        "\n",
        "def bfs(x,y):\n",
        "  queue=deque()\n",
        "  queue.append((x,y))\n",
        "  while queue:\n",
        "    x,y=queue.popleft()\n",
        "    #현재 위치에서 네 방향으로의 위치 확인\n",
        "    for i in range(4):\n",
        "      nx=x+dx[i]\n",
        "      ny=y+dy[i]\n",
        "    #미로 찾기 공간을 벗어난 경우 무시\n",
        "      if nx<0 or ny<0 or nx>=n or ny>=m:\n",
        "        continue\n",
        "    #괴물인 경우 무시\n",
        "      if graph[nx][ny]==0:\n",
        "        continue\n",
        "    #해당 노드를 처음 방문하는 경우에만 최단 거리 기록\n",
        "      if graph[nx][ny]==1:\n",
        "        graph[nx][ny]=graph[x][y]+1\n",
        "        queue.append((nx,ny))\n",
        "  return graph[n-1][m-1]\n",
        "\n",
        "print(bfs(0,0))"
      ],
      "metadata": {
        "colab": {
          "base_uri": "https://localhost:8080/"
        },
        "id": "FPmapdCCKlbb",
        "outputId": "65233b89-1594-45f1-a302-e787f8ce6d7c"
      },
      "execution_count": 15,
      "outputs": [
        {
          "output_type": "stream",
          "name": "stdout",
          "text": [
            "10\n"
          ]
        }
      ]
    },
    {
      "cell_type": "code",
      "source": [
        "#공포도가 x인 모험가는 반드시 x명 이상으로 구성한 모험가 그룹에 참여해야 한다(내 답)\n",
        "n=5\n",
        "number=[2,3,1,2,2]\n",
        "answer=0\n",
        "while(number):\n",
        "  check=max(number)\n",
        "  if check>len(number):\n",
        "    break\n",
        "\n",
        "  if check<=len(number):\n",
        "   answer=answer+1\n",
        "   number.sort()\n",
        "   number.remove(check)\n",
        "   number.reverse()\n",
        "   for i in range(check-1):\n",
        "    number.pop()\n",
        "  \n",
        "print(answer)"
      ],
      "metadata": {
        "colab": {
          "base_uri": "https://localhost:8080/"
        },
        "id": "-fbBqlROtYE-",
        "outputId": "1618255f-6a1f-4e19-f0d3-791c50ee7c5d"
      },
      "execution_count": 14,
      "outputs": [
        {
          "output_type": "stream",
          "name": "stdout",
          "text": [
            "2\n"
          ]
        }
      ]
    },
    {
      "cell_type": "code",
      "source": [
        "# 모험가 길드 문제 (해답)\n",
        "n=5\n",
        "number=[2,3,1,2,2]\n",
        "answer=0\n",
        "count=0\n",
        "number.sort() #1 2 2 2 3\n",
        "\n",
        "for i in number:\n",
        "  count+=1\n",
        "  if count>=i:\n",
        "    answer+=1\n",
        "    count=0\n",
        "\n",
        "print(answer)"
      ],
      "metadata": {
        "colab": {
          "base_uri": "https://localhost:8080/"
        },
        "id": "LUA1XDUN3ejv",
        "outputId": "a8575d15-e67f-4182-f6dd-705751c0d136"
      },
      "execution_count": 22,
      "outputs": [
        {
          "output_type": "stream",
          "name": "stdout",
          "text": [
            "2\n"
          ]
        }
      ]
    },
    {
      "cell_type": "code",
      "source": [
        "#앞에 수가 1이하 이면 +, 아니면 * 수행\n",
        "n=\"567\"\n",
        "answer=int(n[0])\n",
        "\n",
        "for i in range(1,len(n)):\n",
        "  check=int(n[i])\n",
        "  if(answer<=1 or check<=1):\n",
        "    answer+=check\n",
        "  else:\n",
        "    answer*=check\n",
        "\n",
        "print(answer)\n",
        "\n"
      ],
      "metadata": {
        "colab": {
          "base_uri": "https://localhost:8080/"
        },
        "id": "M-_I440wzCHH",
        "outputId": "6fad86e2-c27e-4146-c058-6753b49da08f"
      },
      "execution_count": 17,
      "outputs": [
        {
          "output_type": "stream",
          "name": "stdout",
          "text": [
            "210\n"
          ]
        }
      ]
    },
    {
      "cell_type": "code",
      "source": [
        "# 문자열 뒤집기(내 답: 붙어 있는 것을 모두를 뒤집지는 못하는 문제가 있다)\n",
        "s=\"0001100\"\n",
        "f0=0\n",
        "f1=0\n",
        "for i in range(len(s)):\n",
        "  if int(s[i])==0:\n",
        "    f0+=1\n",
        "  else:\n",
        "    f1+=1\n",
        "\n",
        "answer=0\n",
        "i=0\n",
        "if f0>f1: #0이 더 많은 경우 1인 걸 뒤집는다\n",
        "  while i<len(s):\n",
        "    if int(s[i])==1 and i !=len(s)-1:\n",
        "      if int(s[i+1])==1:\n",
        "        answer+=1\n",
        "        i+=1\n",
        "      else:\n",
        "        answer+=1\n",
        "    elif int(s[i])==1:\n",
        "      answer+=1\n",
        "    i+=1\n",
        "else:   #1이 더 많은 경우 0인 걸 뒤집는다\n",
        "  while i<len(s):\n",
        "    if int(s[i])==0 and i !=len(s)-1:\n",
        "      if int(s[i+1])==0:\n",
        "        answer+=1\n",
        "        i+=1\n",
        "      else:\n",
        "        answer+=1\n",
        "    elif int(s[i])==0:\n",
        "      answer+=1\n",
        "    i+=1\n",
        "\n",
        "print(answer)"
      ],
      "metadata": {
        "colab": {
          "base_uri": "https://localhost:8080/"
        },
        "id": "A2-hlJOHaa49",
        "outputId": "ef7d03dd-7797-48c5-a5e1-ecc704660896"
      },
      "execution_count": 16,
      "outputs": [
        {
          "output_type": "stream",
          "name": "stdout",
          "text": [
            "1\n"
          ]
        }
      ]
    },
    {
      "cell_type": "code",
      "source": [
        "#문자열 뒤집기(0인 것을 뒤집을 지, 1인 것을 뒤집을 지, 경우의 수가 작은 것을 고른다)\n",
        "s=\"0001100\"\n",
        "f0=0\n",
        "f1=0\n",
        "if s[0]=='1':\n",
        "  f0+=1\n",
        "else:\n",
        "  f1+=1\n",
        "\n",
        "for i in range(len(s)-1):\n",
        "  if s[i]!=s[i+1]:\n",
        "    if s[i+1]=='1':\n",
        "      f0+=1\n",
        "    else:\n",
        "      f1+=1\n",
        "\n",
        "print(f0)\n",
        "print(f1)"
      ],
      "metadata": {
        "colab": {
          "base_uri": "https://localhost:8080/"
        },
        "id": "iJCyUy9NiFik",
        "outputId": "db920c90-5f1c-4ac6-d808-166842bd551f"
      },
      "execution_count": 19,
      "outputs": [
        {
          "output_type": "stream",
          "name": "stdout",
          "text": [
            "1\n",
            "2\n"
          ]
        }
      ]
    },
    {
      "cell_type": "code",
      "source": [
        "# 만들 수 없는 금액\n",
        "n=5\n",
        "check=[3,2,1,1,9] #8\n",
        "check.sort() #1 1 2 3 9\n",
        "won=1\n",
        "\n",
        "for x in check:\n",
        "  if won<x:\n",
        "    break\n",
        "  won+=x\n",
        "\n",
        "print(won)"
      ],
      "metadata": {
        "colab": {
          "base_uri": "https://localhost:8080/"
        },
        "id": "A4eA_IlnMlf6",
        "outputId": "e7a4202b-985c-4ec8-eb52-3579957378fd"
      },
      "execution_count": 5,
      "outputs": [
        {
          "output_type": "stream",
          "name": "stdout",
          "text": [
            "8\n"
          ]
        }
      ]
    },
    {
      "cell_type": "code",
      "source": [
        "#볼링공 고르기(이미 계산했던 경우를 제외하고 계산해야 한다)\n",
        "n=5\n",
        "m=3\n",
        "check=[1, 3, 2, 3, 2]\n",
        "\n",
        "array=[0]*11\n",
        "for x in check:\n",
        "  array[x]+=1\n",
        "\n",
        "answer=0\n",
        "for i in range(1, m+1): #1부터 m까지의 무게에 대해\n",
        "  n-=array[i] #A가 선택할 수 있는 개수 제외\n",
        "  answer+=array[i]*n\n",
        "\n",
        "print(answer)\n"
      ],
      "metadata": {
        "colab": {
          "base_uri": "https://localhost:8080/"
        },
        "id": "asOkwg8Gv9u6",
        "outputId": "54c319a9-d37e-4fde-abb4-c2b379d15929"
      },
      "execution_count": 20,
      "outputs": [
        {
          "output_type": "stream",
          "name": "stdout",
          "text": [
            "8\n"
          ]
        }
      ]
    },
    {
      "cell_type": "code",
      "source": [
        "# 1초씩 섭취하고 K초에 지연이 생긴 후 몇 번 음식부터 먹을 지 pop으로 구현(시간 제한)\n",
        "def solution(food_times, k):\n",
        "    answer = 0\n",
        "    second=0\n",
        "    check=[0]*len(food_times)\n",
        "    for i in range(len(food_times)):\n",
        "        check[i]=len(food_times)-i-1 # 2 1 0\n",
        "    \n",
        "    while second<k:\n",
        "        if not check:\n",
        "          check=[0]*len(food_times)\n",
        "          for i in range(len(food_times)):\n",
        "            check[i]=len(food_times)-i-1 # 2 1 0 \n",
        "        time=check.pop()\n",
        "        if food_times[time]<=0:\n",
        "          continue\n",
        "        else:\n",
        "          food_times[time]-=1\n",
        "          second+=1\n",
        "\n",
        "    while(True):\n",
        "      if not check:\n",
        "          check=[0]*len(food_times)\n",
        "          for i in range(len(food_times)):\n",
        "            check[i]=len(food_times)-i-1 # 2 1 0 \n",
        "      time=check.pop()\n",
        "      if food_times[time]>0:\n",
        "        break\n",
        "      else:\n",
        "        continue\n",
        "\n",
        "    answer=time+1\n",
        "    return answer\n",
        "\n",
        "\n",
        "print(solution([3,1,2],5))"
      ],
      "metadata": {
        "colab": {
          "base_uri": "https://localhost:8080/"
        },
        "id": "bjBhUJa8N1Fx",
        "outputId": "205a992f-2612-4271-8c34-5c0e87206912"
      },
      "execution_count": 17,
      "outputs": [
        {
          "output_type": "stream",
          "name": "stdout",
          "text": [
            "1\n"
          ]
        }
      ]
    },
    {
      "cell_type": "code",
      "source": [
        "#시간이 적게 걸리는 음식부터 확인하여 제거하는 heapq적용한 문제\n",
        "import heapq\n",
        "def solution(food_times, k):\n",
        "  if sum(food_times)<=k:\n",
        "    return -1\n",
        "  q=[]\n",
        "  for i in range(len(food_times)):\n",
        "    heapq.heappush(q,(food_times[i],i+1))\n",
        "\n",
        "  sum_value=0\n",
        "  previous=0\n",
        "\n",
        "  length=len(food_times)\n",
        "\n",
        "  while sum_value+((q[0][0]-previous)*length)<=k:\n",
        "    now=heapq.heappop(q)[0]\n",
        "    sum_value+=(now-previous)*length\n",
        "    length-=1\n",
        "    previous=now\n",
        "\n",
        "  result=sorted(q,key=lambda x:x[1])\n",
        "  return result[(k-sum_value)%length][1]\n",
        "\n",
        "\n",
        "print(solution([8,6,4],15))"
      ],
      "metadata": {
        "colab": {
          "base_uri": "https://localhost:8080/"
        },
        "id": "Lk8bJglodD18",
        "outputId": "a819aaa2-503c-475f-c5b4-3388aca4468f"
      },
      "execution_count": 20,
      "outputs": [
        {
          "output_type": "stream",
          "name": "stdout",
          "text": [
            "2\n"
          ]
        }
      ]
    },
    {
      "cell_type": "code",
      "source": [
        "#왼쪽 자릿수와 오른쪽 자릿수를 더해서 같은 지 확인하는 문제\n",
        "s=\"7755\"\n",
        "half=int(len(s)/2)\n",
        "ans=0\n",
        "wer=0\n",
        "for i in range(half):\n",
        "  ans+=int(s[i])\n",
        "for i in range(half,len(s)):\n",
        "  wer+=int(s[i])\n",
        "if(ans==wer):\n",
        "  print(\"LUCKY\")\n",
        "else:\n",
        "  print(\"READY\")"
      ],
      "metadata": {
        "colab": {
          "base_uri": "https://localhost:8080/"
        },
        "id": "zXwb1TwWdbji",
        "outputId": "c27b2f39-8ef2-46a1-86e7-f2d35024ce5a"
      },
      "execution_count": 23,
      "outputs": [
        {
          "output_type": "stream",
          "name": "stdout",
          "text": [
            "READY\n"
          ]
        }
      ]
    },
    {
      "cell_type": "code",
      "source": [
        "#문자열 중에서, 알파벳은 정렬하고 숫자는 더하는 문제\n",
        "s=\"K1KA5CB7\"\n",
        "result=[]\n",
        "value=0\n",
        "\n",
        "for x in s:\n",
        "  if x.isalpha():\n",
        "    result.append(x)\n",
        "  else:\n",
        "    value+=int(x)\n",
        "\n",
        "result.sort()\n",
        "if(value!=0):\n",
        "  result.append(str(value))\n",
        "\n",
        "print(''.join(result))"
      ],
      "metadata": {
        "colab": {
          "base_uri": "https://localhost:8080/"
        },
        "id": "4M9zFdGVCHB_",
        "outputId": "366c3201-841a-4b53-a7ae-76407d34ad4d"
      },
      "execution_count": 28,
      "outputs": [
        {
          "output_type": "stream",
          "name": "stdout",
          "text": [
            "ABCKK13\n"
          ]
        }
      ]
    }
  ]
}