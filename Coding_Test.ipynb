{
 "cells": [
  {
   "cell_type": "markdown",
   "id": "f00b1f98",
   "metadata": {},
   "source": [
    "# 알고리즘 스터디 1주차\n"
   ]
  },
  {
   "cell_type": "markdown",
   "id": "f356f1ca",
   "metadata": {},
   "source": [
    "## 백준_단계별로 풀어보기"
   ]
  },
  {
   "cell_type": "markdown",
   "id": "30869d36",
   "metadata": {},
   "source": [
    "### 1. 입출력과 사칙연산"
   ]
  },
  {
   "cell_type": "code",
   "execution_count": 13,
   "id": "54e1f53e",
   "metadata": {},
   "outputs": [
    {
     "name": "stdout",
     "output_type": "stream",
     "text": [
      "hyomin8918\n",
      "hyomin8918??!\n"
     ]
    }
   ],
   "source": [
    "//10926\n",
    "Scanner sc= new Scanner(System.in);\n",
    "String str1=sc.nextLine();\n",
    "\n",
    "System.out.println(str1+\"??!\");"
   ]
  },
  {
   "cell_type": "code",
   "execution_count": 14,
   "id": "ab26fce2",
   "metadata": {},
   "outputs": [
    {
     "name": "stdout",
     "output_type": "stream",
     "text": [
      "2056\n",
      "1513\n"
     ]
    }
   ],
   "source": [
    "//18108\n",
    "Scanner sc= new Scanner(System.in);\n",
    "int str1=sc.nextInt();\n",
    "\n",
    "System.out.println(str1-543);"
   ]
  },
  {
   "cell_type": "markdown",
   "id": "4c660a8b",
   "metadata": {},
   "source": [
    "### 2. 조건문"
   ]
  },
  {
   "cell_type": "code",
   "execution_count": 10,
   "id": "b05957c7",
   "metadata": {},
   "outputs": [
    {
     "name": "stdout",
     "output_type": "stream",
     "text": [
      "23 48\n",
      "25\n",
      "0 13\n"
     ]
    }
   ],
   "source": [
    "//2525\n",
    "Scanner sc= new Scanner(System.in);\n",
    "int str1=sc.nextInt();\n",
    "int s2=sc.nextInt();\n",
    "int s3=sc.nextInt();\n",
    "if(s2+s3>=60) {\n",
    "    str1=str1+(s2+s3)/60;\n",
    "\ts2=s2+s3-60*((s2+s3)/60);\n",
    "}\n",
    "else {\n",
    "\ts2=s2+s3;\n",
    "}\n",
    "\n",
    "if(str1>=24) {\n",
    "\tstr1=str1-24;\n",
    "}\n",
    "System.out.println(str1+\" \"+s2);"
   ]
  },
  {
   "cell_type": "code",
   "execution_count": 12,
   "id": "c019b243",
   "metadata": {},
   "outputs": [
    {
     "name": "stdout",
     "output_type": "stream",
     "text": [
      "3 3 6\n",
      "1300\n"
     ]
    }
   ],
   "source": [
    "//2480\n",
    "Scanner sc= new Scanner(System.in);\n",
    "int s1=sc.nextInt();\n",
    "int s2=sc.nextInt();\n",
    "int s3=sc.nextInt();\n",
    "int check=0;\n",
    "if(s1==s2 &&s1==s3) {\n",
    "\tcheck=10000+s1*1000;\n",
    "}\n",
    "else if(s1==s2||s1==s3) {\n",
    "\tcheck=1000+s1*100;\n",
    "}\n",
    "else if(s2==s3) {\n",
    "\tcheck=1000+s2*100;\n",
    "}\n",
    "else {\n",
    "\tint max=s1;\n",
    "\tif(max<s2)\n",
    "\t\tmax=s2;\n",
    "\tif(max<s3)\n",
    "\t\tmax=s3;\n",
    "\tcheck=100*max;\n",
    "}\n",
    "\n",
    "System.out.println(check);"
   ]
  },
  {
   "cell_type": "markdown",
   "id": "df7ad4b5",
   "metadata": {},
   "source": [
    "### 3. 반복문"
   ]
  },
  {
   "cell_type": "code",
   "execution_count": 18,
   "id": "3e6d4ec4",
   "metadata": {},
   "outputs": [
    {
     "name": "stdout",
     "output_type": "stream",
     "text": [
      "10 5\n",
      "1 10 4 9 2 3 8 5 7 6\n",
      "1 4 2 3 "
     ]
    }
   ],
   "source": [
    "//10871\n",
    "Scanner sc= new Scanner(System.in);\n",
    "int s1=sc.nextInt();\n",
    "int s2=sc.nextInt();\n",
    "\n",
    "int[] arr=new int[s1];\n",
    "for(int i=0;i<s1;i++) {\n",
    "\tarr[i]=sc.nextInt();\n",
    "}\n",
    "int check=0;\n",
    "for(int i=0;i<s1;i++) {\n",
    "\tif(i!=0&&check==1)\n",
    "\t\tSystem.out.print(\" \");\n",
    "\tcheck=0;\n",
    "\tif(arr[i]<s2) {\n",
    "\t\tSystem.out.print(arr[i]);\n",
    "\t\tcheck=1;\n",
    "    }\n",
    "}"
   ]
  },
  {
   "cell_type": "code",
   "execution_count": 19,
   "id": "fe2f5fc9",
   "metadata": {},
   "outputs": [
    {
     "name": "stdout",
     "output_type": "stream",
     "text": [
      "5\n",
      "    *\n",
      "   **\n",
      "  ***\n",
      " ****\n",
      "*****"
     ]
    }
   ],
   "source": [
    "//2439\n",
    "Scanner sc= new Scanner(System.in);\n",
    "int s1=sc.nextInt();\n",
    "\n",
    "for(int i=1;i<=s1;i++) {\n",
    "\tfor(int j=s1;j>i;j--)\n",
    "\t\tSystem.out.print(\" \");\n",
    "\tfor(int z=1;z<=i;z++)\n",
    "\t\tSystem.out.print(\"*\");\n",
    "\tif(i!=s1)\n",
    "\t\tSystem.out.print(\"\\n\");\n",
    "}"
   ]
  },
  {
   "cell_type": "markdown",
   "id": "d7deb2fc",
   "metadata": {},
   "source": [
    "### 4. 1차원 배열"
   ]
  },
  {
   "cell_type": "code",
   "execution_count": 20,
   "id": "68c98dde",
   "metadata": {},
   "outputs": [
    {
     "name": "stdout",
     "output_type": "stream",
     "text": [
      "5\n",
      "OOXXOXXOOO\n",
      "OOXXOOXXOO\n",
      "OXOXOXOXOXOXOX\n",
      "OOOOOOOOOO\n",
      "OOOOXOOOOXOOOOX\n",
      "10\n",
      "9\n",
      "7\n",
      "55\n",
      "30\n"
     ]
    }
   ],
   "source": [
    "//8958\n",
    "Scanner sc= new Scanner(System.in);\n",
    "int num1=sc.nextInt();\n",
    "int[] arr= new int[num1];\n",
    "\n",
    "int check=1;\n",
    "int score=0;String s1;\n",
    "String s=sc.nextLine();\n",
    "for(int j=0;j<num1;j++) {\n",
    "\tcheck=1;score=0;\n",
    "\ts1=sc.nextLine();\n",
    "\tfor(int i=0;i<s1.length();i++) {\n",
    "\t\tif(s1.charAt(i)=='O') {\n",
    "\t\t\tscore+=check;\n",
    "\t\t\tcheck++;\n",
    "\t\t}\n",
    "\t\telse {\n",
    "\t\t\tcheck=1;\n",
    "\t\t}\n",
    "\t}\n",
    "\tarr[j]=score;\n",
    "}\n",
    "\n",
    "for(int i=0;i<num1;i++) {\n",
    "\tSystem.out.println(arr[i]);\n",
    "}"
   ]
  },
  {
   "cell_type": "code",
   "execution_count": 21,
   "id": "46446b5e",
   "metadata": {},
   "outputs": [
    {
     "name": "stdout",
     "output_type": "stream",
     "text": [
      "150\n",
      "266\n",
      "427\n",
      "3\n",
      "1\n",
      "0\n",
      "2\n",
      "0\n",
      "0\n",
      "0\n",
      "2\n",
      "0\n",
      "0\n"
     ]
    }
   ],
   "source": [
    "//2577\n",
    "Scanner sc= new Scanner(System.in);\n",
    "int s1=sc.nextInt();\n",
    "int s2=sc.nextInt();\n",
    "int s3=sc.nextInt();\n",
    "int fin=s1*s2*s3;\n",
    "int re=fin;\n",
    "int[] arr=new int[10];\n",
    "int check=0;\n",
    "while(true) {\n",
    "\tcheck++;\n",
    "\tif(fin/10==0) {\n",
    "\t\tbreak;\n",
    "\t}\n",
    "\tfin=fin/10;\n",
    "}\n",
    "for(int i=0;i<check;i++) {\n",
    "\tarr[re%10]++;//이상\n",
    "\tre=re/10;\n",
    "}\n",
    "for(int i=0;i<10;i++)\n",
    "\tSystem.out.println(arr[i]);"
   ]
  }
 ],
 "metadata": {
  "kernelspec": {
   "display_name": "Java",
   "language": "java",
   "name": "java"
  },
  "language_info": {
   "codemirror_mode": "java",
   "file_extension": ".jshell",
   "mimetype": "text/x-java-source",
   "name": "Java",
   "pygments_lexer": "java",
   "version": "11.0.15.1+2-LTS-10"
  }
 },
 "nbformat": 4,
 "nbformat_minor": 5
}
