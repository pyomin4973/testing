{
  "nbformat": 4,
  "nbformat_minor": 0,
  "metadata": {
    "colab": {
      "provenance": []
    },
    "kernelspec": {
      "name": "python3",
      "display_name": "Python 3"
    },
    "language_info": {
      "name": "python"
    }
  },
  "cells": [
    {
      "cell_type": "code",
      "execution_count": 5,
      "metadata": {
        "colab": {
          "base_uri": "https://localhost:8080/"
        },
        "id": "UR-rzFwxrk1w",
        "outputId": "f0d05b3f-1d75-462c-b73d-1b4a5562e4a8"
      },
      "outputs": [
        {
          "output_type": "stream",
          "name": "stdout",
          "text": [
            "5\n",
            "R R R U D D\n",
            "3 4\n"
          ]
        }
      ],
      "source": [
        "#4-1 상하좌우\n",
        "x=1\n",
        "y=1\n",
        "n=int(input())\n",
        "plan=input().split()\n",
        "\n",
        "for i in plan:\n",
        "  if(i=='R'):\n",
        "    y=y+1\n",
        "    if y<1 or y>5:\n",
        "      y=y-1\n",
        "  elif i=='L':\n",
        "    y=y-1\n",
        "    if y<1 or y>5:\n",
        "      y=y+1\n",
        "  elif i=='U':\n",
        "    x=x-1\n",
        "    if x<1 or x>5:\n",
        "      x=x+1\n",
        "  else:\n",
        "    x=x+1\n",
        "    if x<1 or x>5:\n",
        "      x=x-1\n",
        "\n",
        "print(x, y)"
      ]
    },
    {
      "cell_type": "code",
      "source": [
        "# 4-2 시각(*)\n",
        "n= int(input())\n",
        "count=0\n",
        "for i in range(n+1):\n",
        "  for j in range(60):\n",
        "    for k in range(60):\n",
        "      if '3' in str(i)+str(j)+str(k):\n",
        "        count+=1\n",
        "print(count)"
      ],
      "metadata": {
        "colab": {
          "base_uri": "https://localhost:8080/"
        },
        "id": "Tl0Adk_Wvshu",
        "outputId": "bff51323-87fa-4fc8-9380-4e85a58f680a"
      },
      "execution_count": 7,
      "outputs": [
        {
          "output_type": "stream",
          "name": "stdout",
          "text": [
            "5\n",
            "11475\n"
          ]
        }
      ]
    },
    {
      "cell_type": "code",
      "source": [
        "#4-3 왕실의 나이트\n",
        "data=input()\n",
        "row=int(data[1])\n",
        "col=int(ord(data[0]))-int(ord('a'))+1\n",
        "cnt=0\n",
        "re1,re2=0,0\n",
        "\n",
        "re1=col-2\n",
        "re2=row-1\n",
        "cnt+=1\n",
        "if(re1>8 or re1<1)or (re2>8 or re2<1):\n",
        "  cnt-=1\n",
        "re1=col+2\n",
        "re2=row-1\n",
        "cnt+=1\n",
        "if(re1>8 or re1<1)or (re2>8 or re2<1):\n",
        "  cnt-=1\n",
        "re1=col-2\n",
        "re2=row+1\n",
        "cnt+=1\n",
        "if(re1>8 or re1<1)or (re2>8 or re2<1):\n",
        "  cnt-=1\n",
        "re1=col+2\n",
        "re2=row+1\n",
        "cnt+=1\n",
        "if(re1>8 or re1<1)or (re2>8 or re2<1):\n",
        "  cnt-=1\n",
        "\n",
        "re1=col+1\n",
        "re2=row+2\n",
        "cnt+=1\n",
        "if(re1>8 or re1<1)or (re2>8 or re2<1):\n",
        "  cnt-=1\n",
        "re1=col-1\n",
        "re2=row+2\n",
        "cnt+=1\n",
        "if(re1>8 or re1<1)or (re2>8 or re2<1):\n",
        "  cnt-=1\n",
        "re1=col+1\n",
        "re2=row-2\n",
        "cnt+=1\n",
        "if(re1>8 or re1<1)or (re2>8 or re2<1):\n",
        "  cnt-=1\n",
        "re1=col-1\n",
        "re2=row-2\n",
        "cnt+=1\n",
        "if(re1>8 or re1<1)or (re2>8 or re2<1):\n",
        "  cnt-=1\n",
        "\n",
        "print(cnt)"
      ],
      "metadata": {
        "colab": {
          "base_uri": "https://localhost:8080/"
        },
        "id": "GNC86owazVmv",
        "outputId": "138525fa-7ff0-466a-d636-7ac6e274d497"
      },
      "execution_count": 11,
      "outputs": [
        {
          "output_type": "stream",
          "name": "stdout",
          "text": [
            "a1\n",
            "2\n"
          ]
        }
      ]
    },
    {
      "cell_type": "code",
      "source": [
        "#왕실과 나이트 다른 풀이\n",
        "data=input()\n",
        "row=int(data[1])\n",
        "col=int(ord(data[0]))-int(ord('a'))+1\n",
        "\n",
        "steps=[(-2,-1),(-1,-2),(1,-2),(2,-1),(2,1),(1,2),(-1,2),(-2,1)]\n",
        "cnt=0\n",
        "for step in steps:\n",
        "  new_row=row+step[0]\n",
        "  next_col=col+step[1]\n",
        "  if new_row>=1 and new_row<=8 and next_col>=1 and next_col <=8:\n",
        "    cnt+=1\n",
        "print(cnt)"
      ],
      "metadata": {
        "colab": {
          "base_uri": "https://localhost:8080/"
        },
        "id": "5czLYYN942rO",
        "outputId": "2509506b-6741-45a6-9369-0bab6cc9af5c"
      },
      "execution_count": 12,
      "outputs": [
        {
          "output_type": "stream",
          "name": "stdout",
          "text": [
            "c2\n",
            "6\n"
          ]
        }
      ]
    },
    {
      "cell_type": "code",
      "source": [
        "#4-4 게임 개발"
      ],
      "metadata": {
        "id": "4x9dE2_25h6q"
      },
      "execution_count": null,
      "outputs": []
    }
  ]
}