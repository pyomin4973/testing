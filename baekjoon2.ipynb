{
 "cells": [
  {
   "cell_type": "markdown",
   "id": "49f3a266",
   "metadata": {},
   "source": [
    "# 알고리즘 스터디 2주차"
   ]
  },
  {
   "cell_type": "markdown",
   "id": "cfee8427",
   "metadata": {},
   "source": [
    "## 단계별로 풀어보기 5~8주차"
   ]
  },
  {
   "cell_type": "markdown",
   "id": "26ae38f1",
   "metadata": {},
   "source": [
    "### 5 함수"
   ]
  },
  {
   "cell_type": "code",
   "execution_count": 1,
   "id": "a59003e1",
   "metadata": {},
   "outputs": [],
   "source": [
    "//15596\n",
    "public class Test {\n",
    "    long sum(int[] a) {\n",
    "        long ans = 0;\n",
    "        int n=a.length;\n",
    "        for(int i=0;i<n;i++){\n",
    "            ans+=a[i];\n",
    "        }\n",
    "        return ans;\n",
    "    }\n",
    "}"
   ]
  },
  {
   "cell_type": "code",
   "execution_count": null,
   "id": "1d5b01b7",
   "metadata": {},
   "outputs": [],
   "source": []
  }
 ],
 "metadata": {
  "kernelspec": {
   "display_name": "Java",
   "language": "java",
   "name": "java"
  },
  "language_info": {
   "codemirror_mode": "java",
   "file_extension": ".jshell",
   "mimetype": "text/x-java-source",
   "name": "Java",
   "pygments_lexer": "java",
   "version": "11.0.15.1+2-LTS-10"
  }
 },
 "nbformat": 4,
 "nbformat_minor": 5
}
